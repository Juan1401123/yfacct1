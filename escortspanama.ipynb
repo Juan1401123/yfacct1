{
 "cells": [
  {
   "cell_type": "code",
   "execution_count": 1,
   "id": "5ba993e9",
   "metadata": {},
   "outputs": [],
   "source": [
    "import re\n",
    "import time\n",
    "from colorama import Fore\n",
    "import openpyxl\n",
    "from bs4 import BeautifulSoup\n",
    "from selenium.webdriver.common.by import By\n",
    "from selenium.webdriver.support.ui import WebDriverWait\n",
    "from selenium.webdriver.support import expected_conditions as EC\n",
    "from selenium.webdriver.support.wait import WebDriverWait\n",
    "from selenium.webdriver.chrome.options import Options\n",
    "import pandas as pd\n",
    "from selenium import webdriver\n",
    "from selenium.common.exceptions import WebDriverException\n",
    "from selenium.webdriver.common.keys import Keys\n",
    "from selenium.common.exceptions import StaleElementReferenceException\n",
    "import random\n",
    "from selenium.common.exceptions import ElementClickInterceptedException\n",
    "from selenium.common.exceptions import NoSuchElementException\n",
    "import math\n",
    "from selenium.webdriver.common.action_chains import ActionChains"
   ]
  },
  {
   "cell_type": "code",
   "execution_count": 2,
   "id": "e95588be",
   "metadata": {},
   "outputs": [],
   "source": [
    "options = Options()\n",
    "\n",
    "options.add_argument('--disable-application-cache')\n",
    "options.add_argument('--disable-blink-features=AutomationControlled')\n",
    "options.add_argument(\"--disable-cookies\")\n",
    "options.add_argument(\"--disable-extensions\")\n",
    "options.add_argument('--no-sandbox')\n",
    "options.add_argument(\"--disable-extensions\")\n",
    "options.add_argument(\"start-maximized\")\n",
    "options.add_argument('--disable-gpu')\n",
    "# options.add_argument(\"--headless\")  \n",
    "# options.add_argument(\"--disable-gpu\")\n",
    "options.add_argument(\"--disable-dev-shm-usage\")\n",
    "options.add_argument('--ignore-urlfetcher-cert-requests')\n",
    "options.add_argument('--no-first-run')\n",
    "options.add_argument(\"--disable-popup-blocking\") \n",
    "\n",
    "\n",
    "driver = webdriver.Chrome(options=options)"
   ]
  },
  {
   "cell_type": "code",
   "execution_count": null,
   "id": "b05c24e7",
   "metadata": {},
   "outputs": [],
   "source": [
    "driver.get('https://escortspanama.net/')"
   ]
  },
  {
   "cell_type": "code",
   "execution_count": 36,
   "id": "0f3b3538",
   "metadata": {},
   "outputs": [],
   "source": [
    "urlstoscrape = []\n"
   ]
  },
  {
   "cell_type": "code",
   "execution_count": 37,
   "id": "45dbd8af",
   "metadata": {},
   "outputs": [],
   "source": [
    "desnum=0\n",
    "while desnum==0:\n",
    "    html=BeautifulSoup(driver.page_source, 'html.parser')\n",
    "    targets= html.find_all('div', class_='girl')   \n",
    "    for target in targets:\n",
    "        try:\n",
    "            link = target.find('a')['href']\n",
    "            if link:\n",
    "                urlstoscrape.append(link)\n",
    "                \n",
    "        except Exception as e:\n",
    "            print('Nohay')\n",
    "\n",
    "\n",
    "    if len(driver.find_elements(By.XPATH, '//a[@class=\"next page-numbers\"]'))>0:\n",
    "        try:\n",
    "            driver.find_element(By.XPATH, '//a[@class=\"next page-numbers\"]').click()\n",
    "            time.sleep(2)\n",
    "        except ElementClickInterceptedException:\n",
    "            time.sleep(2)\n",
    "    else:\n",
    "        desnum=1"
   ]
  },
  {
   "cell_type": "code",
   "execution_count": 11,
   "id": "15bd2ad4",
   "metadata": {},
   "outputs": [],
   "source": [
    "targets= html.find_all('div', clas_='girl')"
   ]
  },
  {
   "cell_type": "code",
   "execution_count": 12,
   "id": "d3306620",
   "metadata": {},
   "outputs": [
    {
     "data": {
      "text/plain": [
       "[]"
      ]
     },
     "execution_count": 12,
     "metadata": {},
     "output_type": "execute_result"
    }
   ],
   "source": [
    "targets"
   ]
  },
  {
   "cell_type": "code",
   "execution_count": 1,
   "id": "55bae0bf",
   "metadata": {},
   "outputs": [],
   "source": [
    "nombres = []\n",
    "telefonos = []  \n",
    "descripciones = []"
   ]
  },
  {
   "cell_type": "code",
   "execution_count": 2,
   "id": "55dcbbdb",
   "metadata": {},
   "outputs": [
    {
     "ename": "NameError",
     "evalue": "name 'urlstoscrape' is not defined",
     "output_type": "error",
     "traceback": [
      "\u001b[31m---------------------------------------------------------------------------\u001b[39m",
      "\u001b[31mNameError\u001b[39m                                 Traceback (most recent call last)",
      "\u001b[36mCell\u001b[39m\u001b[36m \u001b[39m\u001b[32mIn[2]\u001b[39m\u001b[32m, line 1\u001b[39m\n\u001b[32m----> \u001b[39m\u001b[32m1\u001b[39m \u001b[38;5;28;01mfor\u001b[39;00m url \u001b[38;5;129;01min\u001b[39;00m \u001b[43murlstoscrape\u001b[49m:\n\u001b[32m      2\u001b[39m     driver.get(url)\n\u001b[32m      3\u001b[39m     time.sleep(\u001b[32m2\u001b[39m)\n",
      "\u001b[31mNameError\u001b[39m: name 'urlstoscrape' is not defined"
     ]
    }
   ],
   "source": [
    "for url in urlstoscrape:\n",
    "    driver.get(url)\n",
    "    time.sleep(2)\n",
    "    info= BeautifulSoup(driver.page_source, 'html.parser')\n",
    "    try:\n",
    "        name = info.find('h3', class_='profile-title').text.strip()\n",
    "    except AttributeError:\n",
    "        name = None   \n",
    "    try:\n",
    "        description = info.find('div', class_='aboutme').text.strip()  \n",
    "    except AttributeError:\n",
    "        description = None\n",
    "    try:\n",
    "        phone = info.find('div', class_='phone-box r').text.strip().replace('llámame\\n', '').replace('llámame', '').replace('whatsapp', '').replace('whatsApp', '').replace('WhatsApp', '').replace('Whatsapp', '').replace('Teléfono', '').replace('Teléfono:', '').strip()\n",
    "    except AttributeError:\n",
    "        phone = None\n",
    "    nombres.append(name)\n",
    "    telefonos.append(phone)     \n",
    "    descripciones.append(description)"
   ]
  },
  {
   "cell_type": "code",
   "execution_count": 40,
   "id": "60748d0c",
   "metadata": {},
   "outputs": [],
   "source": [
    "sample_data = {\n",
    "    'Nombre': nombres,\n",
    "    'Teléfono': telefonos,\n",
    "    'Descripción': descripciones\n",
    "}"
   ]
  },
  {
   "cell_type": "code",
   "execution_count": 41,
   "id": "0345f703",
   "metadata": {},
   "outputs": [],
   "source": [
    "sample_data = pd.DataFrame(sample_data).drop_duplicates()"
   ]
  },
  {
   "cell_type": "code",
   "execution_count": 42,
   "id": "03024c55",
   "metadata": {},
   "outputs": [
    {
     "data": {
      "text/html": [
       "<div>\n",
       "<style scoped>\n",
       "    .dataframe tbody tr th:only-of-type {\n",
       "        vertical-align: middle;\n",
       "    }\n",
       "\n",
       "    .dataframe tbody tr th {\n",
       "        vertical-align: top;\n",
       "    }\n",
       "\n",
       "    .dataframe thead th {\n",
       "        text-align: right;\n",
       "    }\n",
       "</style>\n",
       "<table border=\"1\" class=\"dataframe\">\n",
       "  <thead>\n",
       "    <tr style=\"text-align: right;\">\n",
       "      <th></th>\n",
       "      <th>Nombre</th>\n",
       "      <th>Teléfono</th>\n",
       "      <th>Descripción</th>\n",
       "    </tr>\n",
       "  </thead>\n",
       "  <tbody>\n",
       "    <tr>\n",
       "      <th>0</th>\n",
       "      <td>Ts Dulce Lady</td>\n",
       "      <td>65468534</td>\n",
       "      <td>Sobre mi:\\n24 años de edad Travestis de Panamá...</td>\n",
       "    </tr>\n",
       "    <tr>\n",
       "      <th>1</th>\n",
       "      <td>Ts Nicole Mazzilli</td>\n",
       "      <td>68236848</td>\n",
       "      <td>Sobre mi:\\n22 años de edad Travestis de Panamá...</td>\n",
       "    </tr>\n",
       "    <tr>\n",
       "      <th>2</th>\n",
       "      <td>Ts Luvi</td>\n",
       "      <td>63036614</td>\n",
       "      <td>Sobre mi:\\n21 años de edad Travestis de Panamá...</td>\n",
       "    </tr>\n",
       "    <tr>\n",
       "      <th>3</th>\n",
       "      <td>Ts Adriana Tarud</td>\n",
       "      <td>64719235</td>\n",
       "      <td>Sobre mi:\\n28 años de edad Travestis de Panamá...</td>\n",
       "    </tr>\n",
       "    <tr>\n",
       "      <th>4</th>\n",
       "      <td>Ts Candy</td>\n",
       "      <td>69631892</td>\n",
       "      <td>Sobre mi:\\n23 años de edad Travestis de Panamá...</td>\n",
       "    </tr>\n",
       "    <tr>\n",
       "      <th>...</th>\n",
       "      <td>...</td>\n",
       "      <td>...</td>\n",
       "      <td>...</td>\n",
       "    </tr>\n",
       "    <tr>\n",
       "      <th>116</th>\n",
       "      <td>Gabriela Trans</td>\n",
       "      <td>+50760261469</td>\n",
       "      <td>Sobre mi:\\n27 años de edad Travestis de Panamá...</td>\n",
       "    </tr>\n",
       "    <tr>\n",
       "      <th>117</th>\n",
       "      <td>JULEIT</td>\n",
       "      <td>65745782</td>\n",
       "      <td>Sobre mi:\\n24 años de edad Travestis de Panamá...</td>\n",
       "    </tr>\n",
       "    <tr>\n",
       "      <th>118</th>\n",
       "      <td>Ashlee King</td>\n",
       "      <td>60622363</td>\n",
       "      <td>Sobre mi:\\n31 años de edad Travestis de Panamá...</td>\n",
       "    </tr>\n",
       "    <tr>\n",
       "      <th>119</th>\n",
       "      <td>Ana Lucía</td>\n",
       "      <td>60314795</td>\n",
       "      <td>Sobre mi:\\n30 años de edad Travestis de Panamá...</td>\n",
       "    </tr>\n",
       "    <tr>\n",
       "      <th>120</th>\n",
       "      <td>jessica beltran</td>\n",
       "      <td>+50762551636</td>\n",
       "      <td>Sobre mi:\\n26 años de edad Travestis de La Cho...</td>\n",
       "    </tr>\n",
       "  </tbody>\n",
       "</table>\n",
       "<p>121 rows × 3 columns</p>\n",
       "</div>"
      ],
      "text/plain": [
       "                 Nombre      Teléfono  \\\n",
       "0         Ts Dulce Lady      65468534   \n",
       "1    Ts Nicole Mazzilli      68236848   \n",
       "2               Ts Luvi      63036614   \n",
       "3      Ts Adriana Tarud      64719235   \n",
       "4              Ts Candy      69631892   \n",
       "..                  ...           ...   \n",
       "116      Gabriela Trans  +50760261469   \n",
       "117              JULEIT      65745782   \n",
       "118         Ashlee King      60622363   \n",
       "119           Ana Lucía      60314795   \n",
       "120     jessica beltran  +50762551636   \n",
       "\n",
       "                                           Descripción  \n",
       "0    Sobre mi:\\n24 años de edad Travestis de Panamá...  \n",
       "1    Sobre mi:\\n22 años de edad Travestis de Panamá...  \n",
       "2    Sobre mi:\\n21 años de edad Travestis de Panamá...  \n",
       "3    Sobre mi:\\n28 años de edad Travestis de Panamá...  \n",
       "4    Sobre mi:\\n23 años de edad Travestis de Panamá...  \n",
       "..                                                 ...  \n",
       "116  Sobre mi:\\n27 años de edad Travestis de Panamá...  \n",
       "117  Sobre mi:\\n24 años de edad Travestis de Panamá...  \n",
       "118  Sobre mi:\\n31 años de edad Travestis de Panamá...  \n",
       "119  Sobre mi:\\n30 años de edad Travestis de Panamá...  \n",
       "120  Sobre mi:\\n26 años de edad Travestis de La Cho...  \n",
       "\n",
       "[121 rows x 3 columns]"
      ]
     },
     "execution_count": 42,
     "metadata": {},
     "output_type": "execute_result"
    }
   ],
   "source": [
    "sample_data"
   ]
  },
  {
   "cell_type": "code",
   "execution_count": 43,
   "id": "b66bbc09",
   "metadata": {},
   "outputs": [],
   "source": [
    "sample_data.to_excel('escortspanama_Trans.xlsx', index=False)\n",
    "sample_data.to_csv('escortspanama_Trans.csv', index=False)"
   ]
  }
 ],
 "metadata": {
  "kernelspec": {
   "display_name": "yfacct1-env",
   "language": "python",
   "name": "python3"
  },
  "language_info": {
   "codemirror_mode": {
    "name": "ipython",
    "version": 3
   },
   "file_extension": ".py",
   "mimetype": "text/x-python",
   "name": "python",
   "nbconvert_exporter": "python",
   "pygments_lexer": "ipython3",
   "version": "3.13.3"
  }
 },
 "nbformat": 4,
 "nbformat_minor": 5
}
