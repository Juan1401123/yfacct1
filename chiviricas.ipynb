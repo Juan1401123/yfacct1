{
 "cells": [
  {
   "cell_type": "code",
   "execution_count": 1,
   "id": "49704106",
   "metadata": {},
   "outputs": [],
   "source": [
    "import re\n",
    "import time\n",
    "from colorama import Fore\n",
    "import openpyxl\n",
    "from bs4 import BeautifulSoup\n",
    "from selenium.webdriver.common.by import By\n",
    "from selenium.webdriver.support.ui import WebDriverWait\n",
    "from selenium.webdriver.support import expected_conditions as EC\n",
    "from selenium.webdriver.support.wait import WebDriverWait\n",
    "from selenium.webdriver.chrome.options import Options\n",
    "import pandas as pd\n",
    "from selenium import webdriver\n",
    "from selenium.common.exceptions import WebDriverException\n",
    "from selenium.webdriver.common.keys import Keys\n",
    "from selenium.common.exceptions import StaleElementReferenceException\n",
    "import random\n",
    "from selenium.common.exceptions import ElementClickInterceptedException\n",
    "from selenium.common.exceptions import NoSuchElementException\n",
    "import math\n",
    "from selenium.webdriver.common.action_chains import ActionChains"
   ]
  },
  {
   "cell_type": "code",
   "execution_count": 2,
   "id": "79aa8f8f",
   "metadata": {},
   "outputs": [],
   "source": [
    "options = Options()\n",
    "\n",
    "options.add_argument('--disable-application-cache')\n",
    "options.add_argument('--disable-blink-features=AutomationControlled')\n",
    "options.add_argument(\"--disable-cookies\")\n",
    "options.add_argument(\"--disable-extensions\")\n",
    "options.add_argument('--no-sandbox')\n",
    "options.add_argument(\"--disable-extensions\")\n",
    "options.add_argument(\"start-maximized\")\n",
    "options.add_argument('--disable-gpu')\n",
    "# options.add_argument(\"--headless\")  \n",
    "# options.add_argument(\"--disable-gpu\")\n",
    "options.add_argument(\"--disable-dev-shm-usage\")\n",
    "options.add_argument('--ignore-urlfetcher-cert-requests')\n",
    "options.add_argument('--no-first-run')\n",
    "options.add_argument(\"--disable-popup-blocking\") \n",
    "\n",
    "\n",
    "driver = webdriver.Chrome(options=options)"
   ]
  },
  {
   "cell_type": "code",
   "execution_count": 4,
   "id": "0908de84",
   "metadata": {},
   "outputs": [],
   "source": [
    "link='https://www.chiviricas.com/'"
   ]
  },
  {
   "cell_type": "code",
   "execution_count": 5,
   "id": "6663e54e",
   "metadata": {},
   "outputs": [],
   "source": [
    "driver.get(link)"
   ]
  },
  {
   "cell_type": "code",
   "execution_count": 33,
   "id": "c57cac9c",
   "metadata": {},
   "outputs": [],
   "source": [
    "allcards=driver.find_elements(By.XPATH, '//div[@class=\"pin masonry top_off\"]')"
   ]
  },
  {
   "cell_type": "code",
   "execution_count": 83,
   "id": "bc610cf0",
   "metadata": {},
   "outputs": [],
   "source": [
    "page=BeautifulSoup(driver.page_source, 'html.parser')\n",
    "allcards=page.find_all('div', class_=re.compile(r'\\bpin\\b.*\\bmasonry\\b|\\bmasonry\\b.*\\bpin\\b'))"
   ]
  },
  {
   "cell_type": "code",
   "execution_count": 84,
   "id": "da8a87d0",
   "metadata": {},
   "outputs": [],
   "source": [
    "titulo=[]\n",
    "numero=[]\n",
    "descripcion=[]\n"
   ]
  },
  {
   "cell_type": "code",
   "execution_count": 85,
   "id": "dba636e9",
   "metadata": {},
   "outputs": [],
   "source": [
    "for e in allcards:\n",
    "    try:\n",
    "        title = e.find('figcaption', class_='titulo').text.strip()\n",
    "        number = e.find('span', class_='container_img').find('img')['alt'].split(' ')[1].strip()\n",
    "        description = e.find('span',class_=\"categorias_basicas\").text.strip()\n",
    "        titulo.append(title)\n",
    "        numero.append(number)\n",
    "        descripcion.append(description)\n",
    "    except Exception as ex:\n",
    "        print(f'Error processing card: {ex}')"
   ]
  },
  {
   "cell_type": "code",
   "execution_count": 64,
   "id": "3e28ec2b",
   "metadata": {},
   "outputs": [
    {
     "data": {
      "text/plain": [
       "'Kimberly 8092649685, Prepago en Santo Domingo Este'"
      ]
     },
     "execution_count": 64,
     "metadata": {},
     "output_type": "execute_result"
    }
   ],
   "source": [
    "e.find('span', class_='container_img').find('img')['alt']\n"
   ]
  },
  {
   "cell_type": "code",
   "execution_count": 37,
   "id": "d05f6b62",
   "metadata": {},
   "outputs": [
    {
     "name": "stdout",
     "output_type": "stream",
     "text": [
      "ElementClickInterceptedException: Retrying click\n",
      "ElementClickInterceptedException: Retrying click\n",
      "ElementClickInterceptedException: Retrying click\n"
     ]
    },
    {
     "ename": "UnexpectedAlertPresentException",
     "evalue": "Alert Text: Error de conexión.\nMessage: unexpected alert open: {Alert text : Error de conexión.}\n  (Session info: chrome=137.0.7151.120)\nStacktrace:\n\tGetHandleVerifier [0x0x7ff6dccbcda5+78885]\n\tGetHandleVerifier [0x0x7ff6dccbce00+78976]\n\t(No symbol) [0x0x7ff6dca79bca]\n\t(No symbol) [0x0x7ff6dcb21de0]\n\t(No symbol) [0x0x7ff6dcaf8963]\n\t(No symbol) [0x0x7ff6dcac16b1]\n\t(No symbol) [0x0x7ff6dcac2443]\n\tGetHandleVerifier [0x0x7ff6dcf94eed+3061101]\n\tGetHandleVerifier [0x0x7ff6dcf8f33d+3037629]\n\tGetHandleVerifier [0x0x7ff6dcfae592+3165202]\n\tGetHandleVerifier [0x0x7ff6dccd730e+186766]\n\tGetHandleVerifier [0x0x7ff6dccdeb3f+217535]\n\tGetHandleVerifier [0x0x7ff6dccc59b4+114740]\n\tGetHandleVerifier [0x0x7ff6dccc5b69+115177]\n\tGetHandleVerifier [0x0x7ff6dccac368+10728]\n\tBaseThreadInitThunk [0x0x7ff918b3e8d7+23]\n\tRtlUserThreadStart [0x0x7ff91a0dc34c+44]\n",
     "output_type": "error",
     "traceback": [
      "\u001b[31m---------------------------------------------------------------------------\u001b[39m",
      "\u001b[31mUnexpectedAlertPresentException\u001b[39m           Traceback (most recent call last)",
      "\u001b[36mCell\u001b[39m\u001b[36m \u001b[39m\u001b[32mIn[37]\u001b[39m\u001b[32m, line 5\u001b[39m\n\u001b[32m      3\u001b[39m card.click()\n\u001b[32m      4\u001b[39m time.sleep(\u001b[32m1\u001b[39m)\n\u001b[32m----> \u001b[39m\u001b[32m5\u001b[39m page=BeautifulSoup(\u001b[43mdriver\u001b[49m\u001b[43m.\u001b[49m\u001b[43mpage_source\u001b[49m, \u001b[33m'\u001b[39m\u001b[33mhtml.parser\u001b[39m\u001b[33m'\u001b[39m)\n\u001b[32m      6\u001b[39m cardselect=page.find(\u001b[33m'\u001b[39m\u001b[33mdiv\u001b[39m\u001b[33m'\u001b[39m, \u001b[38;5;28mid\u001b[39m=\u001b[33m'\u001b[39m\u001b[33mficha_main\u001b[39m\u001b[33m'\u001b[39m)\n\u001b[32m      7\u001b[39m cardinfo=cardselect.find(\u001b[33m'\u001b[39m\u001b[33msection\u001b[39m\u001b[33m'\u001b[39m, \u001b[38;5;28mid\u001b[39m=\u001b[33m'\u001b[39m\u001b[33mficha_datos\u001b[39m\u001b[33m'\u001b[39m)\n",
      "\u001b[36mFile \u001b[39m\u001b[32mc:\\Users\\juana\\Documents\\yfacct1\\yfacct1-env\\Lib\\site-packages\\selenium\\webdriver\\remote\\webdriver.py:586\u001b[39m, in \u001b[36mWebDriver.page_source\u001b[39m\u001b[34m(self)\u001b[39m\n\u001b[32m    578\u001b[39m \u001b[38;5;129m@property\u001b[39m\n\u001b[32m    579\u001b[39m \u001b[38;5;28;01mdef\u001b[39;00m\u001b[38;5;250m \u001b[39m\u001b[34mpage_source\u001b[39m(\u001b[38;5;28mself\u001b[39m) -> \u001b[38;5;28mstr\u001b[39m:\n\u001b[32m    580\u001b[39m \u001b[38;5;250m    \u001b[39m\u001b[33;03m\"\"\"Gets the source of the current page.\u001b[39;00m\n\u001b[32m    581\u001b[39m \n\u001b[32m    582\u001b[39m \u001b[33;03m    Example:\u001b[39;00m\n\u001b[32m    583\u001b[39m \u001b[33;03m    --------\u001b[39;00m\n\u001b[32m    584\u001b[39m \u001b[33;03m    >>> print(driver.page_source)\u001b[39;00m\n\u001b[32m    585\u001b[39m \u001b[33;03m    \"\"\"\u001b[39;00m\n\u001b[32m--> \u001b[39m\u001b[32m586\u001b[39m     \u001b[38;5;28;01mreturn\u001b[39;00m \u001b[38;5;28;43mself\u001b[39;49m\u001b[43m.\u001b[49m\u001b[43mexecute\u001b[49m\u001b[43m(\u001b[49m\u001b[43mCommand\u001b[49m\u001b[43m.\u001b[49m\u001b[43mGET_PAGE_SOURCE\u001b[49m\u001b[43m)\u001b[49m[\u001b[33m\"\u001b[39m\u001b[33mvalue\u001b[39m\u001b[33m\"\u001b[39m]\n",
      "\u001b[36mFile \u001b[39m\u001b[32mc:\\Users\\juana\\Documents\\yfacct1\\yfacct1-env\\Lib\\site-packages\\selenium\\webdriver\\remote\\webdriver.py:447\u001b[39m, in \u001b[36mWebDriver.execute\u001b[39m\u001b[34m(self, driver_command, params)\u001b[39m\n\u001b[32m    445\u001b[39m response = \u001b[38;5;28mself\u001b[39m.command_executor.execute(driver_command, params)\n\u001b[32m    446\u001b[39m \u001b[38;5;28;01mif\u001b[39;00m response:\n\u001b[32m--> \u001b[39m\u001b[32m447\u001b[39m     \u001b[38;5;28;43mself\u001b[39;49m\u001b[43m.\u001b[49m\u001b[43merror_handler\u001b[49m\u001b[43m.\u001b[49m\u001b[43mcheck_response\u001b[49m\u001b[43m(\u001b[49m\u001b[43mresponse\u001b[49m\u001b[43m)\u001b[49m\n\u001b[32m    448\u001b[39m     response[\u001b[33m\"\u001b[39m\u001b[33mvalue\u001b[39m\u001b[33m\"\u001b[39m] = \u001b[38;5;28mself\u001b[39m._unwrap_value(response.get(\u001b[33m\"\u001b[39m\u001b[33mvalue\u001b[39m\u001b[33m\"\u001b[39m, \u001b[38;5;28;01mNone\u001b[39;00m))\n\u001b[32m    449\u001b[39m     \u001b[38;5;28;01mreturn\u001b[39;00m response\n",
      "\u001b[36mFile \u001b[39m\u001b[32mc:\\Users\\juana\\Documents\\yfacct1\\yfacct1-env\\Lib\\site-packages\\selenium\\webdriver\\remote\\errorhandler.py:231\u001b[39m, in \u001b[36mErrorHandler.check_response\u001b[39m\u001b[34m(self, response)\u001b[39m\n\u001b[32m    229\u001b[39m     \u001b[38;5;28;01melif\u001b[39;00m \u001b[33m\"\u001b[39m\u001b[33malert\u001b[39m\u001b[33m\"\u001b[39m \u001b[38;5;129;01min\u001b[39;00m value:\n\u001b[32m    230\u001b[39m         alert_text = value[\u001b[33m\"\u001b[39m\u001b[33malert\u001b[39m\u001b[33m\"\u001b[39m].get(\u001b[33m\"\u001b[39m\u001b[33mtext\u001b[39m\u001b[33m\"\u001b[39m)\n\u001b[32m--> \u001b[39m\u001b[32m231\u001b[39m     \u001b[38;5;28;01mraise\u001b[39;00m exception_class(message, screen, stacktrace, alert_text)  \u001b[38;5;66;03m# type: ignore[call-arg]  # mypy is not smart enough here\u001b[39;00m\n\u001b[32m    232\u001b[39m \u001b[38;5;28;01mraise\u001b[39;00m exception_class(message, screen, stacktrace)\n",
      "\u001b[31mUnexpectedAlertPresentException\u001b[39m: Alert Text: Error de conexión.\nMessage: unexpected alert open: {Alert text : Error de conexión.}\n  (Session info: chrome=137.0.7151.120)\nStacktrace:\n\tGetHandleVerifier [0x0x7ff6dccbcda5+78885]\n\tGetHandleVerifier [0x0x7ff6dccbce00+78976]\n\t(No symbol) [0x0x7ff6dca79bca]\n\t(No symbol) [0x0x7ff6dcb21de0]\n\t(No symbol) [0x0x7ff6dcaf8963]\n\t(No symbol) [0x0x7ff6dcac16b1]\n\t(No symbol) [0x0x7ff6dcac2443]\n\tGetHandleVerifier [0x0x7ff6dcf94eed+3061101]\n\tGetHandleVerifier [0x0x7ff6dcf8f33d+3037629]\n\tGetHandleVerifier [0x0x7ff6dcfae592+3165202]\n\tGetHandleVerifier [0x0x7ff6dccd730e+186766]\n\tGetHandleVerifier [0x0x7ff6dccdeb3f+217535]\n\tGetHandleVerifier [0x0x7ff6dccc59b4+114740]\n\tGetHandleVerifier [0x0x7ff6dccc5b69+115177]\n\tGetHandleVerifier [0x0x7ff6dccac368+10728]\n\tBaseThreadInitThunk [0x0x7ff918b3e8d7+23]\n\tRtlUserThreadStart [0x0x7ff91a0dc34c+44]\n"
     ]
    }
   ],
   "source": [
    "for card in allcards:\n",
    "    try:\n",
    "        card.click()\n",
    "        time.sleep(1)\n",
    "        page=BeautifulSoup(driver.page_source, 'html.parser')\n",
    "        cardselect=page.find('div', id='ficha_main')\n",
    "        cardinfo=cardselect.find('section', id='ficha_datos')\n",
    "        title = cardinfo.find('h1').text.strip()\n",
    "        if title:\n",
    "            titulo.append(title)\n",
    "        else:\n",
    "            titulo.append(None)\n",
    "        description = cardselect.find('section', id='ficha_texto').text.strip()\n",
    "        if description:\n",
    "            descripcion.append(description)\n",
    "        else:\n",
    "            descripcion.append(None)\n",
    "        try:      \n",
    "            phone = page.find('div', id='ficha_telefono').get('data-telefono')\n",
    "        except AttributeError:\n",
    "            try:\n",
    "                phone = page.find('div', id='ficha_whatsapp').get('data-telefono')\n",
    "            except AttributeError:\n",
    "                phone = page.find('div', id='ficha_telegram').get('data-telefono')\n",
    "        if phone:\n",
    "            numero.append(phone)\n",
    "        else:\n",
    "            numero.append(None)\n",
    "\n",
    "        driver.execute_script(\"document.elementFromPoint(200, 300).click();\")\n",
    "        \n",
    "    except ElementClickInterceptedException:\n",
    "        print(  \"ElementClickInterceptedException: Retrying click\")\n"
   ]
  },
  {
   "cell_type": "code",
   "execution_count": null,
   "id": "2faaf6d9",
   "metadata": {},
   "outputs": [],
   "source": []
  },
  {
   "cell_type": "code",
   "execution_count": 86,
   "id": "99eea713",
   "metadata": {},
   "outputs": [],
   "source": [
    "sample=({'titulo': titulo,\n",
    "         'numero': numero,\n",
    "            'descripcion': descripcion}) \n",
    "df = pd.DataFrame(sample)"
   ]
  },
  {
   "cell_type": "code",
   "execution_count": 87,
   "id": "f4629357",
   "metadata": {},
   "outputs": [],
   "source": [
    "df.drop_duplicates(inplace=True)"
   ]
  },
  {
   "cell_type": "code",
   "execution_count": 90,
   "id": "ea9d254b",
   "metadata": {},
   "outputs": [
    {
     "data": {
      "text/html": [
       "<div>\n",
       "<style scoped>\n",
       "    .dataframe tbody tr th:only-of-type {\n",
       "        vertical-align: middle;\n",
       "    }\n",
       "\n",
       "    .dataframe tbody tr th {\n",
       "        vertical-align: top;\n",
       "    }\n",
       "\n",
       "    .dataframe thead th {\n",
       "        text-align: right;\n",
       "    }\n",
       "</style>\n",
       "<table border=\"1\" class=\"dataframe\">\n",
       "  <thead>\n",
       "    <tr style=\"text-align: right;\">\n",
       "      <th></th>\n",
       "      <th>titulo</th>\n",
       "      <th>numero</th>\n",
       "      <th>descripcion</th>\n",
       "    </tr>\n",
       "  </thead>\n",
       "  <tbody>\n",
       "    <tr>\n",
       "      <th>0</th>\n",
       "      <td>Masajista erótica, saco leche con final de gar...</td>\n",
       "      <td>rubia</td>\n",
       "      <td>Santo Domingo25 añosRD$ 6.500RD$ 6,5K</td>\n",
       "    </tr>\n",
       "    <tr>\n",
       "      <th>1</th>\n",
       "      <td>Masajes eróticos, tántricos y profesionales, r...</td>\n",
       "      <td>8294774192,</td>\n",
       "      <td>Santo Domingo28 años</td>\n",
       "    </tr>\n",
       "    <tr>\n",
       "      <th>2</th>\n",
       "      <td>Masajista profesional en masajes terapéuticos ...</td>\n",
       "      <td>Fernández</td>\n",
       "      <td>Santo Domingo32 añosRD$ 5.000RD$ 5K</td>\n",
       "    </tr>\n",
       "    <tr>\n",
       "      <th>3</th>\n",
       "      <td>Masajista erótica, con lugar discreto, ducha y...</td>\n",
       "      <td>8099937464,</td>\n",
       "      <td>Santo Domingo22 años</td>\n",
       "    </tr>\n",
       "    <tr>\n",
       "      <th>4</th>\n",
       "      <td>Colombiana preciosa dispuesta a complacerte y ...</td>\n",
       "      <td>8294994415,</td>\n",
       "      <td>Santo Domingo22 años</td>\n",
       "    </tr>\n",
       "    <tr>\n",
       "      <th>...</th>\n",
       "      <td>...</td>\n",
       "      <td>...</td>\n",
       "      <td>...</td>\n",
       "    </tr>\n",
       "    <tr>\n",
       "      <th>59</th>\n",
       "      <td>Solo masajes eróticos y si quieres fotos pagas...</td>\n",
       "      <td>Mujer</td>\n",
       "      <td>Santo Domingo27 añosRD$ 2.000RD$ 2K</td>\n",
       "    </tr>\n",
       "    <tr>\n",
       "      <th>60</th>\n",
       "      <td>Masajista profesional garantizada con licencia.</td>\n",
       "      <td>Guillén,</td>\n",
       "      <td>Santo Domingo33 añosRD$ 3.000RD$ 3K</td>\n",
       "    </tr>\n",
       "    <tr>\n",
       "      <th>61</th>\n",
       "      <td>Masajista y excelente dama de compañía en la p...</td>\n",
       "      <td>Mujer</td>\n",
       "      <td>Punta Cana28 añosRD$ 3.000RD$ 3K</td>\n",
       "    </tr>\n",
       "    <tr>\n",
       "      <th>62</th>\n",
       "      <td>Masajes eróticos, de relajación y más tántrico.</td>\n",
       "      <td>Mujer</td>\n",
       "      <td>Punta Cana28 añosRD$ 5.600RD$ 5,6K</td>\n",
       "    </tr>\n",
       "    <tr>\n",
       "      <th>63</th>\n",
       "      <td>Una chica dominicana, muy jovencita y guapa en...</td>\n",
       "      <td>Masajista</td>\n",
       "      <td>Punta Cana22 años</td>\n",
       "    </tr>\n",
       "  </tbody>\n",
       "</table>\n",
       "<p>64 rows × 3 columns</p>\n",
       "</div>"
      ],
      "text/plain": [
       "                                               titulo       numero  \\\n",
       "0   Masajista erótica, saco leche con final de gar...        rubia   \n",
       "1   Masajes eróticos, tántricos y profesionales, r...  8294774192,   \n",
       "2   Masajista profesional en masajes terapéuticos ...    Fernández   \n",
       "3   Masajista erótica, con lugar discreto, ducha y...  8099937464,   \n",
       "4   Colombiana preciosa dispuesta a complacerte y ...  8294994415,   \n",
       "..                                                ...          ...   \n",
       "59  Solo masajes eróticos y si quieres fotos pagas...        Mujer   \n",
       "60    Masajista profesional garantizada con licencia.     Guillén,   \n",
       "61  Masajista y excelente dama de compañía en la p...        Mujer   \n",
       "62    Masajes eróticos, de relajación y más tántrico.        Mujer   \n",
       "63  Una chica dominicana, muy jovencita y guapa en...    Masajista   \n",
       "\n",
       "                              descripcion  \n",
       "0   Santo Domingo25 añosRD$ 6.500RD$ 6,5K  \n",
       "1                    Santo Domingo28 años  \n",
       "2     Santo Domingo32 añosRD$ 5.000RD$ 5K  \n",
       "3                    Santo Domingo22 años  \n",
       "4                    Santo Domingo22 años  \n",
       "..                                    ...  \n",
       "59    Santo Domingo27 añosRD$ 2.000RD$ 2K  \n",
       "60    Santo Domingo33 añosRD$ 3.000RD$ 3K  \n",
       "61       Punta Cana28 añosRD$ 3.000RD$ 3K  \n",
       "62     Punta Cana28 añosRD$ 5.600RD$ 5,6K  \n",
       "63                      Punta Cana22 años  \n",
       "\n",
       "[64 rows x 3 columns]"
      ]
     },
     "execution_count": 90,
     "metadata": {},
     "output_type": "execute_result"
    }
   ],
   "source": [
    "df"
   ]
  },
  {
   "cell_type": "code",
   "execution_count": 89,
   "id": "4f715873",
   "metadata": {},
   "outputs": [],
   "source": [
    "df.to_csv('chiviricas_Republica_Dominicana_MAsajistas.csv', index=False)\n",
    "df.to_excel('chiviricas_Republica_Dominicana_MAsajistas.xlsx', index=False)"
   ]
  }
 ],
 "metadata": {
  "kernelspec": {
   "display_name": "yfacct1-env",
   "language": "python",
   "name": "python3"
  },
  "language_info": {
   "codemirror_mode": {
    "name": "ipython",
    "version": 3
   },
   "file_extension": ".py",
   "mimetype": "text/x-python",
   "name": "python",
   "nbconvert_exporter": "python",
   "pygments_lexer": "ipython3",
   "version": "3.13.3"
  }
 },
 "nbformat": 4,
 "nbformat_minor": 5
}
