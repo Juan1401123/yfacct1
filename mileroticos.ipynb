{
 "cells": [
  {
   "cell_type": "code",
   "execution_count": 1,
   "id": "adc59d44",
   "metadata": {},
   "outputs": [],
   "source": [
    "import re\n",
    "import time\n",
    "from colorama import Fore\n",
    "import openpyxl\n",
    "from bs4 import BeautifulSoup\n",
    "from selenium.webdriver.common.by import By\n",
    "from selenium.webdriver.support.ui import WebDriverWait\n",
    "from selenium.webdriver.support import expected_conditions as EC\n",
    "from selenium.webdriver.support.wait import WebDriverWait\n",
    "from selenium.webdriver.chrome.options import Options\n",
    "import pandas as pd\n",
    "from selenium import webdriver\n",
    "from selenium.common.exceptions import WebDriverException\n",
    "from selenium.webdriver.common.keys import Keys\n",
    "from selenium.common.exceptions import StaleElementReferenceException\n",
    "import random\n",
    "from selenium.common.exceptions import ElementClickInterceptedException\n",
    "from selenium.common.exceptions import NoSuchElementException\n",
    "import math\n",
    "from selenium.webdriver.common.action_chains import ActionChains\n",
    "import requests"
   ]
  },
  {
   "cell_type": "code",
   "execution_count": null,
   "id": "d80f6fe9",
   "metadata": {},
   "outputs": [],
   "source": [
    "options = Options()\n",
    "\n",
    "options.add_argument('--disable-application-cache')\n",
    "options.add_argument('--disable-blink-features=AutomationControlled')\n",
    "options.add_argument(\"--disable-cookies\")\n",
    "options.add_argument(\"--disable-extensions\")\n",
    "options.add_argument('--no-sandbox')\n",
    "options.add_argument(\"--disable-extensions\")\n",
    "options.add_argument(\"start-maximized\")\n",
    "options.add_argument('--disable-gpu')\n",
    "# options.add_argument(\"--headless\")  \n",
    "# options.add_argument(\"--disable-gpu\")\n",
    "options.add_argument(\"--disable-dev-shm-usage\")\n",
    "options.add_argument('--ignore-urlfetcher-cert-requests')\n",
    "options.add_argument('--no-first-run')\n",
    "options.add_argument(\"--disable-popup-blocking\") \n",
    "\n",
    "\n",
    "driver = webdriver.Chrome(options=options)"
   ]
  },
  {
   "cell_type": "code",
   "execution_count": null,
   "id": "ae18f2b3",
   "metadata": {},
   "outputs": [],
   "source": [
    "Weblink='https://co.mileroticos.com/escorts'"
   ]
  },
  {
   "cell_type": "code",
   "execution_count": null,
   "id": "b3419047",
   "metadata": {},
   "outputs": [],
   "source": [
    "driver.get(Weblink)"
   ]
  },
  {
   "cell_type": "code",
   "execution_count": 23,
   "id": "fad310e5",
   "metadata": {},
   "outputs": [],
   "source": [
    "linksprovinces = []\n",
    "allprovinces = BeautifulSoup(driver.page_source, 'html.parser')\n",
    "card=allprovinces.find('section', class_='panel-notifications panel-province')\n",
    "eachprovince=card.find_all('a', href=True)\n",
    "for each in eachprovince:\n",
    "    province=each['href']\n",
    "    linksprovinces.append(province)\n"
   ]
  },
  {
   "cell_type": "code",
   "execution_count": 46,
   "id": "e89e19a2",
   "metadata": {},
   "outputs": [],
   "source": [
    "urlstoscrape = []"
   ]
  },
  {
   "cell_type": "code",
   "execution_count": 49,
   "id": "66aa9f37",
   "metadata": {},
   "outputs": [],
   "source": [
    "for enlace in linksprovinces:\n",
    "    driver.get(Weblink.replace('/escorts','')+enlace)\n",
    "    descnum=0\n",
    "    while descnum==0:\n",
    "      page=BeautifulSoup(driver.page_source,'html.parser')\n",
    "      alltargets=page.find_all('div', class_=re.compile('container-item'))\n",
    "      for target in alltargets:\n",
    "            try:\n",
    "                link = target.find('a')['href']\n",
    "                if link:\n",
    "                    urlstoscrape.append(link)\n",
    "                    \n",
    "            except Exception as e:\n",
    "                print('Nohay')\n",
    "      if len(driver.find_elements(By.XPATH,'//li[@class=\"next\"]'))>0:\n",
    "        try:\n",
    "            driver.find_element(By.XPATH, '//li[@class=\"next\"]').click()\n",
    "            time.sleep(2)\n",
    "        except ElementClickInterceptedException:\n",
    "            time.sleep(2)\n",
    "      else:\n",
    "            descnum=1\n",
    "  \n"
   ]
  },
  {
   "cell_type": "code",
   "execution_count": 55,
   "id": "dadf934b",
   "metadata": {},
   "outputs": [],
   "source": [
    "urlstoscrape=pd.DataFrame(urlstoscrape)[0].unique().tolist()"
   ]
  },
  {
   "cell_type": "code",
   "execution_count": 58,
   "id": "78d8054a",
   "metadata": {},
   "outputs": [
    {
     "data": {
      "text/plain": [
       "28119"
      ]
     },
     "execution_count": 58,
     "metadata": {},
     "output_type": "execute_result"
    }
   ],
   "source": [
    "len(urlstoscrape)"
   ]
  },
  {
   "cell_type": "code",
   "execution_count": null,
   "id": "04a5da96",
   "metadata": {},
   "outputs": [],
   "source": [
    "for "
   ]
  }
 ],
 "metadata": {
  "kernelspec": {
   "display_name": "yfacct1-env",
   "language": "python",
   "name": "python3"
  },
  "language_info": {
   "codemirror_mode": {
    "name": "ipython",
    "version": 3
   },
   "file_extension": ".py",
   "mimetype": "text/x-python",
   "name": "python",
   "nbconvert_exporter": "python",
   "pygments_lexer": "ipython3",
   "version": "3.13.3"
  }
 },
 "nbformat": 4,
 "nbformat_minor": 5
}
